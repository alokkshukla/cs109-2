{
 "cells": [
  {
   "cell_type": "markdown",
   "metadata": {},
   "source": [
    "# CS 109A/AC 209A/STAT 121A Data Science: Lab 7 (Solutions)\n",
    "**Harvard University**<br>\n",
    "**Fall 2016**<br>\n",
    "**Instructors: W. Pan, P. Protopapas, K. Rader**<br>\n",
    "**Due Date: ** Wednesday, November 2nd, 2016 at 11:59pm"
   ]
  },
  {
   "cell_type": "markdown",
   "metadata": {},
   "source": [
    "Import libraries"
   ]
  },
  {
   "cell_type": "code",
   "execution_count": 1,
   "metadata": {
    "collapsed": false
   },
   "outputs": [],
   "source": [
    "import numpy as np\n",
    "import pandas as pd\n",
    "import scipy as sp\n",
    "from scipy.stats import mode\n",
    "from sklearn import linear_model\n",
    "import matplotlib\n",
    "import matplotlib.pyplot as plt\n",
    "from sklearn import discriminant_analysis\n",
    "from sklearn.decomposition import PCA\n",
    "from sklearn import preprocessing\n",
    "%matplotlib inline"
   ]
  },
  {
   "cell_type": "markdown",
   "metadata": {},
   "source": [
    "## Problem 1: Recommender System for Movies\n",
    "\n",
    "In this problem, you will build a model to recommend movies using ratings from users. \n",
    "\n",
    "The dataset for this problem is contained in `dataset_4_ratings.txt`. This dataset contains ratings from 100 users for 1000 movies. The first two columns contain the user and movie IDs. The last column contains a 1 if the user liked the movie, and 0 otherwise. Not every movie is rated by every user (i.e. some movies have more ratings than others).\n",
    "\n",
    "The names of the movies corresponding to the IDs are provided in `dataset_4_movie_names.txt`.\n",
    "\n",
    "### Step 1: Read the data and explore\n",
    "\n",
    "Let's get acquainted with our data."
   ]
  },
  {
   "cell_type": "code",
   "execution_count": 2,
   "metadata": {
    "collapsed": false
   },
   "outputs": [
    {
     "data": {
      "text/html": [
       "<div>\n",
       "<table border=\"1\" class=\"dataframe\">\n",
       "  <thead>\n",
       "    <tr style=\"text-align: right;\">\n",
       "      <th></th>\n",
       "      <th>user_id</th>\n",
       "      <th>movie_id</th>\n",
       "      <th>rating</th>\n",
       "    </tr>\n",
       "  </thead>\n",
       "  <tbody>\n",
       "    <tr>\n",
       "      <th>0</th>\n",
       "      <td>22.0</td>\n",
       "      <td>377.0</td>\n",
       "      <td>0.0</td>\n",
       "    </tr>\n",
       "    <tr>\n",
       "      <th>1</th>\n",
       "      <td>62.0</td>\n",
       "      <td>257.0</td>\n",
       "      <td>0.0</td>\n",
       "    </tr>\n",
       "    <tr>\n",
       "      <th>2</th>\n",
       "      <td>95.0</td>\n",
       "      <td>546.0</td>\n",
       "      <td>0.0</td>\n",
       "    </tr>\n",
       "    <tr>\n",
       "      <th>3</th>\n",
       "      <td>38.0</td>\n",
       "      <td>95.0</td>\n",
       "      <td>1.0</td>\n",
       "    </tr>\n",
       "    <tr>\n",
       "      <th>4</th>\n",
       "      <td>63.0</td>\n",
       "      <td>277.0</td>\n",
       "      <td>1.0</td>\n",
       "    </tr>\n",
       "  </tbody>\n",
       "</table>\n",
       "</div>"
      ],
      "text/plain": [
       "   user_id  movie_id  rating\n",
       "0     22.0     377.0     0.0\n",
       "1     62.0     257.0     0.0\n",
       "2     95.0     546.0     0.0\n",
       "3     38.0      95.0     1.0\n",
       "4     63.0     277.0     1.0"
      ]
     },
     "execution_count": 2,
     "metadata": {},
     "output_type": "execute_result"
    }
   ],
   "source": [
    "ratings_df = pd.read_csv('datasets/dataset_4_ratings.txt', delimiter=',')\n",
    "ratings_df.head()"
   ]
  },
  {
   "cell_type": "code",
   "execution_count": 3,
   "metadata": {
    "collapsed": false
   },
   "outputs": [
    {
     "data": {
      "text/html": [
       "<div>\n",
       "<table border=\"1\" class=\"dataframe\">\n",
       "  <thead>\n",
       "    <tr style=\"text-align: right;\">\n",
       "      <th></th>\n",
       "      <th>movie_id</th>\n",
       "      <th>movie_name</th>\n",
       "      <th>release_date</th>\n",
       "      <th>Unnamed: 3</th>\n",
       "      <th>link</th>\n",
       "      <th>Unnamed: 5</th>\n",
       "      <th>Unnamed: 6</th>\n",
       "      <th>Unnamed: 7</th>\n",
       "      <th>Unnamed: 8</th>\n",
       "      <th>Unnamed: 9</th>\n",
       "      <th>...</th>\n",
       "      <th>Unnamed: 15</th>\n",
       "      <th>Unnamed: 16</th>\n",
       "      <th>Unnamed: 17</th>\n",
       "      <th>Unnamed: 18</th>\n",
       "      <th>Unnamed: 19</th>\n",
       "      <th>Unnamed: 20</th>\n",
       "      <th>Unnamed: 21</th>\n",
       "      <th>Unnamed: 22</th>\n",
       "      <th>Unnamed: 23</th>\n",
       "      <th>Unnamed: 24</th>\n",
       "    </tr>\n",
       "  </thead>\n",
       "  <tbody>\n",
       "    <tr>\n",
       "      <th>0</th>\n",
       "      <td>1</td>\n",
       "      <td>Toy Story (1995)</td>\n",
       "      <td>01-Jan-1995</td>\n",
       "      <td>NaN</td>\n",
       "      <td>http://us.imdb.com/M/title-exact?Toy%20Story%2...</td>\n",
       "      <td>0</td>\n",
       "      <td>0</td>\n",
       "      <td>0</td>\n",
       "      <td>1</td>\n",
       "      <td>1</td>\n",
       "      <td>...</td>\n",
       "      <td>0</td>\n",
       "      <td>0</td>\n",
       "      <td>0</td>\n",
       "      <td>0</td>\n",
       "      <td>0</td>\n",
       "      <td>0</td>\n",
       "      <td>0</td>\n",
       "      <td>0</td>\n",
       "      <td>0</td>\n",
       "      <td>NaN</td>\n",
       "    </tr>\n",
       "    <tr>\n",
       "      <th>1</th>\n",
       "      <td>2</td>\n",
       "      <td>GoldenEye (1995)</td>\n",
       "      <td>01-Jan-1995</td>\n",
       "      <td>NaN</td>\n",
       "      <td>http://us.imdb.com/M/title-exact?GoldenEye%20(...</td>\n",
       "      <td>0</td>\n",
       "      <td>1</td>\n",
       "      <td>1</td>\n",
       "      <td>0</td>\n",
       "      <td>0</td>\n",
       "      <td>...</td>\n",
       "      <td>0</td>\n",
       "      <td>0</td>\n",
       "      <td>0</td>\n",
       "      <td>0</td>\n",
       "      <td>0</td>\n",
       "      <td>0</td>\n",
       "      <td>1</td>\n",
       "      <td>0</td>\n",
       "      <td>0</td>\n",
       "      <td>NaN</td>\n",
       "    </tr>\n",
       "    <tr>\n",
       "      <th>2</th>\n",
       "      <td>3</td>\n",
       "      <td>Four Rooms (1995)</td>\n",
       "      <td>01-Jan-1995</td>\n",
       "      <td>NaN</td>\n",
       "      <td>http://us.imdb.com/M/title-exact?Four%20Rooms%...</td>\n",
       "      <td>0</td>\n",
       "      <td>0</td>\n",
       "      <td>0</td>\n",
       "      <td>0</td>\n",
       "      <td>0</td>\n",
       "      <td>...</td>\n",
       "      <td>0</td>\n",
       "      <td>0</td>\n",
       "      <td>0</td>\n",
       "      <td>0</td>\n",
       "      <td>0</td>\n",
       "      <td>0</td>\n",
       "      <td>1</td>\n",
       "      <td>0</td>\n",
       "      <td>0</td>\n",
       "      <td>NaN</td>\n",
       "    </tr>\n",
       "    <tr>\n",
       "      <th>3</th>\n",
       "      <td>4</td>\n",
       "      <td>Get Shorty (1995)</td>\n",
       "      <td>01-Jan-1995</td>\n",
       "      <td>NaN</td>\n",
       "      <td>http://us.imdb.com/M/title-exact?Get%20Shorty%...</td>\n",
       "      <td>0</td>\n",
       "      <td>1</td>\n",
       "      <td>0</td>\n",
       "      <td>0</td>\n",
       "      <td>0</td>\n",
       "      <td>...</td>\n",
       "      <td>0</td>\n",
       "      <td>0</td>\n",
       "      <td>0</td>\n",
       "      <td>0</td>\n",
       "      <td>0</td>\n",
       "      <td>0</td>\n",
       "      <td>0</td>\n",
       "      <td>0</td>\n",
       "      <td>0</td>\n",
       "      <td>NaN</td>\n",
       "    </tr>\n",
       "    <tr>\n",
       "      <th>4</th>\n",
       "      <td>5</td>\n",
       "      <td>Copycat (1995)</td>\n",
       "      <td>01-Jan-1995</td>\n",
       "      <td>NaN</td>\n",
       "      <td>http://us.imdb.com/M/title-exact?Copycat%20(1995)</td>\n",
       "      <td>0</td>\n",
       "      <td>0</td>\n",
       "      <td>0</td>\n",
       "      <td>0</td>\n",
       "      <td>0</td>\n",
       "      <td>...</td>\n",
       "      <td>0</td>\n",
       "      <td>0</td>\n",
       "      <td>0</td>\n",
       "      <td>0</td>\n",
       "      <td>0</td>\n",
       "      <td>0</td>\n",
       "      <td>1</td>\n",
       "      <td>0</td>\n",
       "      <td>0</td>\n",
       "      <td>NaN</td>\n",
       "    </tr>\n",
       "  </tbody>\n",
       "</table>\n",
       "<p>5 rows × 25 columns</p>\n",
       "</div>"
      ],
      "text/plain": [
       "   movie_id         movie_name release_date  Unnamed: 3  \\\n",
       "0         1   Toy Story (1995)  01-Jan-1995         NaN   \n",
       "1         2   GoldenEye (1995)  01-Jan-1995         NaN   \n",
       "2         3  Four Rooms (1995)  01-Jan-1995         NaN   \n",
       "3         4  Get Shorty (1995)  01-Jan-1995         NaN   \n",
       "4         5     Copycat (1995)  01-Jan-1995         NaN   \n",
       "\n",
       "                                                link  Unnamed: 5  Unnamed: 6  \\\n",
       "0  http://us.imdb.com/M/title-exact?Toy%20Story%2...           0           0   \n",
       "1  http://us.imdb.com/M/title-exact?GoldenEye%20(...           0           1   \n",
       "2  http://us.imdb.com/M/title-exact?Four%20Rooms%...           0           0   \n",
       "3  http://us.imdb.com/M/title-exact?Get%20Shorty%...           0           1   \n",
       "4  http://us.imdb.com/M/title-exact?Copycat%20(1995)           0           0   \n",
       "\n",
       "   Unnamed: 7  Unnamed: 8  Unnamed: 9     ...       Unnamed: 15  Unnamed: 16  \\\n",
       "0           0           1           1     ...                 0            0   \n",
       "1           1           0           0     ...                 0            0   \n",
       "2           0           0           0     ...                 0            0   \n",
       "3           0           0           0     ...                 0            0   \n",
       "4           0           0           0     ...                 0            0   \n",
       "\n",
       "   Unnamed: 17  Unnamed: 18  Unnamed: 19  Unnamed: 20  Unnamed: 21  \\\n",
       "0            0            0            0            0            0   \n",
       "1            0            0            0            0            1   \n",
       "2            0            0            0            0            1   \n",
       "3            0            0            0            0            0   \n",
       "4            0            0            0            0            1   \n",
       "\n",
       "   Unnamed: 22  Unnamed: 23  Unnamed: 24  \n",
       "0            0            0          NaN  \n",
       "1            0            0          NaN  \n",
       "2            0            0          NaN  \n",
       "3            0            0          NaN  \n",
       "4            0            0          NaN  \n",
       "\n",
       "[5 rows x 25 columns]"
      ]
     },
     "execution_count": 3,
     "metadata": {},
     "output_type": "execute_result"
    }
   ],
   "source": [
    "names_df = pd.read_csv('datasets/dataset_4_movie_names.txt', delimiter='|')\n",
    "names_df.head()"
   ]
  },
  {
   "cell_type": "markdown",
   "metadata": {},
   "source": [
    "It looks like movie names appear in the `names` dataframe but not in the `rating` dataframe. So we forsee a challenge later to cross reference a movie's id with its name. After all, it'd be more helpful to see the names of the movies in the top 25!"
   ]
  },
  {
   "cell_type": "markdown",
   "metadata": {},
   "source": [
    "### Step 2: Implement a simple ranking system\n",
    "\n",
    "One way of recommending movies is to recommend movies that are generally agreed upon to be good. But how do we measure the \"goodness\" or \"likability\" of a movie?\n",
    "\n",
    "Suppose that we simple count the number of likes for each movie and take the 25 movies with the most number of likes. Would this be a good idea?\n",
    "\n",
    "To help you extract the movie information from the two databases, we have built you a helper function."
   ]
  },
  {
   "cell_type": "code",
   "execution_count": 4,
   "metadata": {
    "collapsed": false
   },
   "outputs": [],
   "source": [
    "#--------  movie_stats\n",
    "# A function that extracts the number of likes and total number of ratings for a movie\n",
    "# Input: \n",
    "#      movie_name (an optional parameter containing the exact name of the movie)\n",
    "#      movie_name_contains (an optional parameter containing a portion of the name of the movie)\n",
    "# Returns: \n",
    "#      total_ratings (the total number of ratings for a movie)\n",
    "#      likes (the total number of likes for a movie)\n",
    "\n",
    "def movie_stats(movie_name=None, movie_name_contains=None):\n",
    "    \n",
    "    #If given an exact movie name:\n",
    "    if movie_name is not None:        \n",
    "        #Find the index of the movie, by name, in the \"names\" dataframe\n",
    "        movie_index = names_df[names_df['movie_name'] == movie_name].index[0]\n",
    "        #Get the id for the movie in the \"names\" dataframe\n",
    "        movie_id = names_df.loc[movie_index, 'movie_id']\n",
    "        #Get all ratings for the movie, by id, in the \"ratings\" dataframe\n",
    "        ratings_for_movie = ratings_df[ratings_df['movie_id'] == movie_id]\n",
    "        #Count the total number of ratings\n",
    "        total_ratings = len(ratings_for_movie)\n",
    "        #Count the likes (the 1's)\n",
    "        likes = ratings_for_movie['rating'].sum()\n",
    "    \n",
    "    #Otherwise, if given a partial movie name:\n",
    "    elif movie_name_contains is not None:\n",
    "        #Find the index of the movie, by name, in the \"names\" dataframe\n",
    "        movie_index = names_df[names_df['movie_name'].str.contains(movie_name_contains)].index[0]\n",
    "        #Get the id for the movie in the \"names\" dataframe\n",
    "        movie_id = names_df.loc[movie_index, 'movie_id']\n",
    "        #Get all ratings for the movie, by id, in the \"ratings\" dataframe\n",
    "        ratings_for_movie = ratings_df[ratings_df['movie_id'] == movie_id]\n",
    "        #Count the total number of ratings\n",
    "        total_ratings = len(ratings_for_movie)\n",
    "        #Count the likes (the 1's)\n",
    "        likes = ratings_for_movie['rating'].sum()\n",
    "    \n",
    "    else:\n",
    "        total_ratings = 0.\n",
    "        likes = 0.\n",
    "    \n",
    "    return float(total_ratings), likes"
   ]
  },
  {
   "cell_type": "markdown",
   "metadata": {},
   "source": [
    "Using the helper function above, let's check out the stats for a couple of movies:"
   ]
  },
  {
   "cell_type": "code",
   "execution_count": 5,
   "metadata": {
    "collapsed": false
   },
   "outputs": [
    {
     "name": "stdout",
     "output_type": "stream",
     "text": [
      "total number of ratings for Toy Story: 51.0\n",
      "number of likes for Toy Story: 38.0\n"
     ]
    }
   ],
   "source": [
    "total_ratings, likes = movie_stats(movie_name_contains='Toy Story')\n",
    "\n",
    "print 'total number of ratings for Toy Story:', total_ratings\n",
    "print 'number of likes for Toy Story:', likes"
   ]
  },
  {
   "cell_type": "code",
   "execution_count": 6,
   "metadata": {
    "collapsed": false
   },
   "outputs": [
    {
     "name": "stdout",
     "output_type": "stream",
     "text": [
      "total number of ratings for Star Wars: 39.0\n",
      "number of likes for Star Wars: 39.0\n"
     ]
    }
   ],
   "source": [
    "total_ratings, likes = movie_stats(movie_name_contains=\"Shawshank Redemption\")\n",
    "\n",
    "print 'total number of ratings for Star Wars:', total_ratings\n",
    "print 'number of likes for Star Wars:', likes"
   ]
  },
  {
   "cell_type": "code",
   "execution_count": 7,
   "metadata": {
    "collapsed": false
   },
   "outputs": [
    {
     "name": "stdout",
     "output_type": "stream",
     "text": [
      "total number of ratings for French Twist: 2.0\n",
      "number of likes for French Twist: 2.0\n"
     ]
    }
   ],
   "source": [
    "total_ratings, likes = movie_stats(movie_name_contains='French Twist')\n",
    "\n",
    "print 'total number of ratings for French Twist:', total_ratings\n",
    "print 'number of likes for French Twist:', likes"
   ]
  },
  {
   "cell_type": "markdown",
   "metadata": {},
   "source": [
    "Clearly, not all movies have the same number of ratings. Now, if we want to rank the movies by the total number of likes, we'd have to rank \"Toy Story\" and \"Shawshank Redemption\" as similarly likable. Does this seem fair to you? Meaning, does our ranking reflect the likability of the movie based on the complete ratings information?"
   ]
  },
  {
   "cell_type": "markdown",
   "metadata": {},
   "source": [
    "### Step 3: Implement a fairer ranking system\n",
    "\n",
    "Now, instead of using the total number of likes, we use the total percentage of likes to rank the movies. Why is total like-percentage a more reasonable metric for likability than total number of likes? There is an intuitive, layman's explanation for this choice and there is a formal probabilistic way of justifying this choice.\n",
    "\n",
    "So what does the top 25 movies loook like when we rank by like-percentage?"
   ]
  },
  {
   "cell_type": "code",
   "execution_count": 8,
   "metadata": {
    "collapsed": false
   },
   "outputs": [
    {
     "name": "stdout",
     "output_type": "stream",
     "text": [
      "Top 25 Movies\n",
      "****************************\n",
      "French Twist (Gazon maudit) (1995) : 1.0 (2.0/2.0)\n",
      "Exotica (1994) : 1.0 (2.0/2.0)\n",
      "Three Colors: Red (1994) : 1.0 (12.0/12.0)\n",
      "Three Colors: White (1994) : 1.0 (8.0/8.0)\n",
      "Shawshank Redemption, The (1994) : 1.0 (39.0/39.0)\n",
      "Brother Minister: The Assassination of Malcolm X (1994) : 1.0 (1.0/1.0)\n",
      "Carlito's Way (1993) : 1.0 (4.0/4.0)\n",
      "Robert A. Heinlein's The Puppet Masters (1994) : 1.0 (2.0/2.0)\n",
      "Horseman on the Roof, The (Hussard sur le toit, Le) (1995) : 1.0 (2.0/2.0)\n",
      "Wallace & Gromit: The Best of Aardman Animation (1996) : 1.0 (6.0/6.0)\n",
      "Maya Lin: A Strong Clear Vision (1994) : 1.0 (1.0/1.0)\n",
      "Unhook the Stars (1996) : 1.0 (1.0/1.0)\n",
      "Wrong Trousers, The (1993) : 1.0 (14.0/14.0)\n",
      "Godfather: Part II, The (1974) : 1.0 (18.0/18.0)\n",
      "Ridicule (1996) : 1.0 (5.0/5.0)\n",
      "Pillow Book, The (1995) : 1.0 (2.0/2.0)\n",
      "When the Cats Away (Chacun cherche son chat) (1996) : 1.0 (3.0/3.0)\n",
      "unknown : 1.0 (2.0/2.0)\n",
      "Once Upon a Time... When We Were Colored (1995) : 1.0 (2.0/2.0)\n",
      "Assignment, The (1997) : 1.0 (1.0/1.0)\n",
      "Wonderland (1997) : 1.0 (2.0/2.0)\n",
      "Incognito (1997) : 1.0 (1.0/1.0)\n",
      "Blues Brothers 2000 (1998) : 1.0 (2.0/2.0)\n",
      "Fear of a Black Hat (1993) : 1.0 (2.0/2.0)\n",
      "To Catch a Thief (1955) : 1.0 (6.0/6.0)\n"
     ]
    }
   ],
   "source": [
    "#Make a list of movie names and their ratings info\n",
    "likability = []\n",
    "\n",
    "#Iterate through all the movie names\n",
    "for name in names_df['movie_name'].values:\n",
    "    #Get ratings info for movie\n",
    "    total_ratings, likes = movie_stats(movie_name=name)\n",
    "    #Add movie info to our list\n",
    "    likability.append((name, likes, total_ratings, likes / total_ratings))\n",
    "\n",
    "#Sort our list of movie info by like-percentage, in descending order\n",
    "sorted_likability = sorted(likability, key=lambda t: t[3], reverse=True)  \n",
    "#Get the movies with top 25 like-percentage\n",
    "top_25_movies = sorted_likability[:25]\n",
    "\n",
    "#Print results of ranking\n",
    "print 'Top 25 Movies'\n",
    "print '****************************'\n",
    "for movie, likes, total_ratings, likable in top_25_movies:\n",
    "    print movie, ':', likable, '({}/{})'.format(likes, total_ratings)"
   ]
  },
  {
   "cell_type": "markdown",
   "metadata": {},
   "source": [
    "We notice that \"Shawshank Redemption\" now far out ranks \"Toy Story\". This seems more reasonable. On the other hand, \"French Twist\" also, now, far out ranks \"Toy Story\". Does this seem fair? In fact, take a look at your top 25 movies, do you feel like this list best represents the most \"popular\" or \"beloved\" movies in the database? If not, why isn't our ranking system doing a good job (what's wrong with ranking by like-percentage)?"
   ]
  },
  {
   "cell_type": "markdown",
   "metadata": {},
   "source": [
    "### Part 4: Exploring the effect of prior beliefs\n",
    "\n",
    "Recall that we can predjudice our models (if we don't like their results) by building in some prior beliefs about the model parameters. In this case, our model parameter is \"the likability of a movie\". So let's encode some prior beliefs for what we think are reasonable values for \"likability\". To keep things simple, we will restrict ourselves to using beta priors to model our beliefs about \"likability\".\n",
    "\n",
    "We have built for you a few helpful functions: one to help you visualize the pdf for various beta priors, one for approximating the posterior using samples, and one for calculating the mode of a distribution (given by some sampled values)."
   ]
  },
  {
   "cell_type": "code",
   "execution_count": 9,
   "metadata": {
    "collapsed": false
   },
   "outputs": [],
   "source": [
    "#--------  plot_beta_prior\n",
    "# A function to visualize a beta pdf on a set of axes\n",
    "# Input: \n",
    "#      a (parameter controlling shape of beta prior)\n",
    "#      b (parameter controlling shape of beta prior)\n",
    "#      color (color of beta pdf)\n",
    "#      ax (axes on which to plot pdf)\n",
    "# Returns: \n",
    "#      ax (axes with plot of beta pdf)\n",
    "\n",
    "def plot_beta_prior(a, b, color, ax):\n",
    "    \n",
    "    #Create a beta-distributed random variable with shape a, b\n",
    "    rv = sp.stats.beta(a, b)\n",
    "    #Create values from 0 to 1\n",
    "    x = np.linspace(0, 1, 100)\n",
    "    #Plot the beta pdf for values from 0 to 1\n",
    "    ax.plot(x, rv.pdf(x), '-', lw=2, color=color, label='a=' + str(a) + ', b=' + str(b))\n",
    "    #Set title, legend etc\n",
    "    ax.set_title('Beta prior with a=' + str(a) + ', b=' + str(b))\n",
    "    ax.legend(loc='best')\n",
    "    \n",
    "    return ax"
   ]
  },
  {
   "cell_type": "code",
   "execution_count": 10,
   "metadata": {
    "collapsed": false
   },
   "outputs": [],
   "source": [
    "#--------  sample_posterior\n",
    "# A function that samples points from the posterior over a movie's \n",
    "# likability, given a binomial likelihood function and beta prior\n",
    "# Input: \n",
    "#      a (parameter controlling shape of beta prior)\n",
    "#      b (parameter controlling shape of beta prior)\n",
    "#      likes (the number of likes in likelihood)\n",
    "#      ratings (total number of ratings in likelihood)\n",
    "#      n_samples (number of samples to take from posterior)\n",
    "# Returns: \n",
    "#      post_samples (a array of points from the posterior)\n",
    "\n",
    "def sample_posterior(a, b, likes, ratings, n_samples):\n",
    "    #Samples points from a beta distribution \n",
    "    #(the posterior of a binomial likelihood and a beta prior is a beta distribution!)\n",
    "    post_samples = np.random.beta(a + likes, b + ratings - likes, n_samples)\n",
    "    return post_samples"
   ]
  },
  {
   "cell_type": "code",
   "execution_count": 11,
   "metadata": {
    "collapsed": false
   },
   "outputs": [],
   "source": [
    "#--------  find_mode\n",
    "# A function that approximates the mode of a distribution given a sample from the distribution\n",
    "# Input: \n",
    "#      values (samples from the distribution)\n",
    "#      num_bins (number of bins to use in approximating histogram)\n",
    "# Returns: \n",
    "#      mode (the approximate mode of the distribution)\n",
    "\n",
    "def find_mode(values, num_bins):\n",
    "    \n",
    "    #Make an approximation (histogram) of the distribution using the samples\n",
    "    bins, edges = np.histogram(values, bins=num_bins)\n",
    "    #Find the bin in the histogram with the max height\n",
    "    max_height_index = np.argmax(bins)\n",
    "    #Find the sample corresponding to the bin with the max height (the mode)\n",
    "    mode = (edges[max_height_index] + edges[max_height_index + 1]) / 2.\n",
    "    \n",
    "    return mode"
   ]
  },
  {
   "cell_type": "markdown",
   "metadata": {},
   "source": [
    "First, let's explore the shapes of various beta pdfs and let's interpret these shapes as prior beliefs (stated in plain English)."
   ]
  },
  {
   "cell_type": "code",
   "execution_count": 12,
   "metadata": {
    "collapsed": false
   },
   "outputs": [
    {
     "data": {
      "image/png": "[encoded data removed]",
      "text/plain": [
       "<matplotlib.figure.Figure at 0xc966710>"
      ]
     },
     "metadata": {},
     "output_type": "display_data"
    }
   ],
   "source": [
    "#A list of beta distribution shapes to try out\n",
    "beta_shapes = [(1, 1), (0.5, 0.5), (2, 2), (4, 2), (2, 4)]\n",
    "#Length of the list of shapes\n",
    "n = len(beta_shapes)\n",
    "\n",
    "#Plot all the beta pdfs in a row\n",
    "fig, ax = plt.subplots(1, n, figsize=(20, 4))\n",
    "\n",
    "#Start the index of the current subplot at 0\n",
    "ax_ind = 0\n",
    "#Iterate through all the shapes\n",
    "for a, b in beta_shapes:\n",
    "    #Plot the beta pdf for a particular shape\n",
    "    plot_beta_prior(a, b, 'blue', ax[ax_ind])\n",
    "    #Increment the subplot index\n",
    "    ax_ind += 1\n",
    "    \n",
    "plt.tight_layout()    \n",
    "plt.show() "
   ]
  },
  {
   "cell_type": "markdown",
   "metadata": {},
   "source": [
    "So, which beta prior encodes an appropriate belief about likability? If this is a difficult question to answer, let's look at the effect of the priors on the posterior (i.e. the likelihood of a particular \"likelihood\" given a set of observed ratings). "
   ]
  },
  {
   "cell_type": "code",
   "execution_count": 15,
   "metadata": {
    "collapsed": false
   },
   "outputs": [
    {
     "name": "stdout",
     "output_type": "stream",
     "text": [
      "Shawshank Redemption, The (1994): 0.980050596558 (39.0/39.0)\n"
     ]
    },
    {
     "data": {
      "image/png": "[encoded data removed]",
      "text/plain": [
       "<matplotlib.figure.Figure at 0xeb2d048>"
      ]
     },
     "metadata": {},
     "output_type": "display_data"
    }
   ],
   "source": [
    "#Get the name of the first movie in the top 25 list\n",
    "movie_name = top_25_movies[0][0]\n",
    "\n",
    "#Get the ratings info for the first movie in the top 25 list\n",
    "likes = top_25_movies[0][1]\n",
    "total_ratings = top_25_movies[0][2]\n",
    "likability = top_25_movies[0][3]\n",
    "\n",
    "#Print movie info\n",
    "print '{}: {} ({}/{})'.format(movie_name, likability, likes, total_ratings)\n",
    "\n",
    "#Number of samples to use when approximating our posterior\n",
    "n_samples = 10000\n",
    "\n",
    "#Plot the posterior corresponding to each prior\n",
    "fig, ax = plt.subplots(1, n, figsize=(20, 4))\n",
    "\n",
    "#Start the index of the current subplot at 0\n",
    "ax_ind = 0\n",
    "\n",
    "#Iterate through all the shapes\n",
    "for a, b in beta_shapes:   \n",
    "    #Draw samples from the posterior corresponding to a particular beta prior\n",
    "    post_samples = sample_posterior(a, b, likes, total_ratings, n_samples)\n",
    "    #Approximate the posterior with a histogram of these samples\n",
    "    ax[ax_ind].hist(post_samples, bins=30, color='red', alpha=0.5)\n",
    "    #Find the approximate mode of the posterior\n",
    "    mode = find_mode(post_samples, 30)\n",
    "    #Plot the mode as a vertical line\n",
    "    ax[ax_ind].axvline(x=mode, linewidth=3, label='Posterior mode')\n",
    "    \n",
    "    #Set title, legends etc\n",
    "    ax[ax_ind].set_title('Posterior, with Beta prior (a={}, b={})'.format(a, b))\n",
    "    ax[ax_ind].legend(loc='best')\n",
    "    #Increment the subplot index\n",
    "    ax_ind += 1\n",
    "\n",
    "plt.tight_layout()\n",
    "plt.show() "
   ]
  },
  {
   "cell_type": "markdown",
   "metadata": {},
   "source": [
    "So, how do we interpret the posterior? I.e. what is it telling us about the likability of a particular movie? \n",
    "\n",
    "How do we interpret the posterior mode? What does the mode tell us about the likability of a particular movie?\n",
    "\n",
    "Do the posterior mode tell us the same thing about a movie's likability as the like-percentage? Which metric is more realistic or reasonable?"
   ]
  },
  {
   "cell_type": "markdown",
   "metadata": {},
   "source": [
    "### Step 5: Implement a ranking system that takes prior beliefs into account\n",
    "\n",
    "Let's choose a reasonable beta prior and build a list of top 25 movies that you would recommend to a new user based on the posterior mode.\n",
    "\n",
    "Why is this reasonable to do? There is an intuitive, layman's explanation for this as well as a formal statistical justification."
   ]
  },
  {
   "cell_type": "code",
   "execution_count": 14,
   "metadata": {
    "collapsed": false
   },
   "outputs": [
    {
     "name": "stdout",
     "output_type": "stream",
     "text": [
      "Top 25 Movies\n",
      "****************************\n",
      "Shawshank Redemption, The (1994) : 0.980050596558 (39.0/39.0)\n",
      "Cool Hand Luke (1967) : 0.950348590374 (20.0/20.0)\n",
      "Glory (1989) : 0.947718889527 (17.0/17.0)\n",
      "Godfather: Part II, The (1974) : 0.946339121611 (18.0/18.0)\n",
      "Manchurian Candidate, The (1962) : 0.94391760832 (17.0/17.0)\n",
      "Raiders of the Lost Ark (1981) : 0.941229442549 (47.0/49.0)\n",
      "Killing Fields, The (1984) : 0.939476820729 (14.0/14.0)\n",
      "Wrong Trousers, The (1993) : 0.935706879036 (14.0/14.0)\n",
      "Three Colors: Red (1994) : 0.933080679279 (12.0/12.0)\n",
      "High Noon (1952) : 0.925864598073 (11.0/11.0)\n",
      "Casablanca (1942) : 0.925090033068 (22.0/23.0)\n",
      "Close Shave, A (1995) : 0.9229749494 (16.0/17.0)\n",
      "Alien (1979) : 0.911512265727 (28.0/30.0)\n",
      "Vertigo (1958) : 0.910364992093 (22.0/23.0)\n",
      "Wallace & Gromit: The Best of Aardman Animation (1996) : 0.909394477098 (6.0/6.0)\n",
      "Local Hero (1983) : 0.909071373145 (10.0/10.0)\n",
      "East of Eden (1955) : 0.904421921802 (8.0/8.0)\n",
      "Dead Man Walking (1995) : 0.902970435 (33.0/36.0)\n",
      "This Is Spinal Tap (1984) : 0.900973695492 (24.0/26.0)\n",
      "Usual Suspects, The (1995) : 0.900336096925 (27.0/29.0)\n",
      "Taxi Driver (1976) : 0.899419422798 (17.0/18.0)\n",
      "Third Man, The (1949) : 0.899351903105 (9.0/9.0)\n",
      "Treasure of the Sierra Madre, The (1948) : 0.894363140361 (15.0/16.0)\n",
      "Thin Man, The (1934) : 0.892151189522 (8.0/8.0)\n",
      "Magnificent Seven, The (1954) : 0.879822543371 (14.0/15.0)\n"
     ]
    }
   ],
   "source": [
    "#Choose a beta prior that encodes a reasonable belief about likability \n",
    "a = 2 \n",
    "b = 2\n",
    "\n",
    "#Make a list of movie names and their ratings info\n",
    "likability = []\n",
    "\n",
    "#Iterate through all the movie names\n",
    "for name in names_df['movie_name'].values:\n",
    "    #Get ratings info for movie\n",
    "    total_ratings, likes = movie_stats(movie_name=name)\n",
    "    #Approximate the posterior given the ratings info and the prior\n",
    "    post_samples = sample_posterior(a, b, likes, total_ratings, n_samples)\n",
    "    #Approximate posterior mode\n",
    "    mode = find_mode(post_samples, 30)\n",
    "    #Add movie info to our list\n",
    "    likability.append((name, likes, total_ratings, mode))\n",
    "\n",
    "#Sort our list of movie info by like-percentage, in descending order\n",
    "sorted_likability = sorted(likability, key=lambda t: t[3], reverse=True)  \n",
    "#Get the movies with top 25 like-percentage\n",
    "top_25_movies = sorted_likability[:25]\n",
    "\n",
    "#Print results of ranking\n",
    "print 'Top 25 Movies'\n",
    "print '****************************'\n",
    "for movie, likes, total_ratings, likable in top_25_movies:\n",
    "    print movie, ':', likable, '({}/{})'.format(likes, total_ratings)"
   ]
  },
  {
   "cell_type": "markdown",
   "metadata": {},
   "source": [
    "So while \"Shawshank Redemption\" is still highly ranked, \"French Twist\" no longer appears on our top 25. This at least seems more intuitive.\n",
    "\n",
    "So, in what important ways is our top 25 list using the posterior mode different from our top 25 list using the like-percent? Which list is, generally speaking, more realistic and why?"
   ]
  },
  {
   "cell_type": "markdown",
   "metadata": {},
   "source": [
    "---"
   ]
  }
 ],
 "metadata": {
  "anaconda-cloud": {},
  "kernelspec": {
   "display_name": "Python [Root]",
   "language": "python",
   "name": "Python [Root]"
  },
  "language_info": {
   "codemirror_mode": {
    "name": "ipython",
    "version": 2
   },
   "file_extension": ".py",
   "mimetype": "text/x-python",
   "name": "python",
   "nbconvert_exporter": "python",
   "pygments_lexer": "ipython2",
   "version": "2.7.12"
  }
 },
 "nbformat": 4,
 "nbformat_minor": 0
}
