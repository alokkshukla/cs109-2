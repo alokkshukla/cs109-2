{
 "cells": [
  {
   "cell_type": "markdown",
   "metadata": {},
   "source": [
    "# Anomaly Detection - Zelong\n",
    "**Harvard University**<br>\n",
    "**Fall 2016**<br>\n",
    "**Instructors: W. Pan, P. Protopapas, K. Rader**<br>\n",
    "\n",
    "<br>\n",
    "\n",
    "**Dennis Milechin, Ivan Sunyagin, Hany Bassily**\n",
    "\n",
    "<br>\n",
    "## Beta Version for Hurricane Matthew\n",
    "\n",
    "\n",
    "<br>"
   ]
  },
  {
   "cell_type": "markdown",
   "metadata": {},
   "source": [
    "Import libraries"
   ]
  },
  {
   "cell_type": "code",
   "execution_count": null,
   "metadata": {
    "collapsed": false,
    "scrolled": true
   },
   "outputs": [],
   "source": [
    "import numpy as np\n",
    "import pandas as pd\n",
    "import scipy as sp\n",
    "\n",
    "#import pydotplus\n",
    "from IPython import display\n",
    "from IPython.display import Image\n",
    "#import seaborn as sns\n",
    "#sns.set_style(\"whitegrid\")\n",
    "#sns.set_context(\"paper\")\n",
    "#sns.set_palette(\"RdBu\", n_colors=32)\n",
    "#from inspect import getmembers\n",
    "\n",
    "from mpl_toolkits.mplot3d import Axes3D\n",
    "import matplotlib.cm as cmx\n",
    "import matplotlib.colors as colors\n",
    "\n",
    "from scipy import stats\n",
    "from scipy.stats import gaussian_kde as PDF\n",
    "\n",
    "import collections\n",
    "from matplotlib import rcParams\n",
    "import matplotlib\n",
    "import matplotlib.pyplot as plt\n",
    "%matplotlib inline"
   ]
  },
  {
   "cell_type": "markdown",
   "metadata": {},
   "source": [
    "**---**"
   ]
  },
  {
   "cell_type": "markdown",
   "metadata": {},
   "source": [
    "## Open a datasets\n",
    "\n",
    "<br>"
   ]
  },
  {
   "cell_type": "markdown",
   "metadata": {},
   "source": [
    "### 1- Hurricane Matthew Data\n",
    "\n",
    "<br>"
   ]
  },
  {
   "cell_type": "code",
   "execution_count": null,
   "metadata": {
    "collapsed": false
   },
   "outputs": [],
   "source": [
    "# Open data sets:\n",
    "# --------------\n",
    "\n",
    "# Data dictionary\n",
    "data_dic = {}\n",
    "\n",
    "# specify date columns\n",
    "date_range = [[0,1,2,3,4]]\n",
    "\n",
    "# Open the data files\n",
    "for i in range(5):\n",
    "    file_name = 'datasets/data_' + str(i+1) + '.txt'\n",
    "    inter = pd.read_csv(file_name , delim_whitespace = True , skiprows = [1],\n",
    "                                              parse_dates = date_range , infer_datetime_format = True)\n",
    "    data_dic['df_' + str(i + 1)] = inter.iloc[:,1:]\n",
    "\n",
    "# Sanity check    \n",
    "data_dic['df_1'].head(10)"
   ]
  },
  {
   "cell_type": "code",
   "execution_count": null,
   "metadata": {
    "collapsed": false
   },
   "outputs": [],
   "source": [
    "# Concatenate all files:\n",
    "# ---------------------\n",
    "\n",
    "# initiation\n",
    "df_global_raw = data_dic['df_1']\n",
    "\n",
    "# concatente\n",
    "\n",
    "title = ['WSPD' , 'GST' , 'PRES' , 'ATMP']\n",
    "# title = ['WDIR' , 'WSPD' , 'GST' , 'PRES' , 'ATMP' , 'DEWP']\n",
    "\n",
    "for i in range(2,6):\n",
    "    df_global_raw = pd.concat([df_global_raw , data_dic['df_' + str(i)]] , axis = 0)\n",
    "    \n",
    "df_global = df_global_raw[title]\n",
    "\n",
    "# data array\n",
    "data_raw = df_global.values"
   ]
  },
  {
   "cell_type": "code",
   "execution_count": null,
   "metadata": {
    "collapsed": false
   },
   "outputs": [],
   "source": [
    "# Preprocessing\n",
    "# -------------\n",
    "\n",
    "# determine defected rows\n",
    "defect = []\n",
    "\n",
    "# itterrate\n",
    "for i in range (data_raw.shape[0]):\n",
    "    if data_raw[i,-1] > 200.:\n",
    "        defect.append(i)\n",
    "\n",
    "# remove rows\n",
    "data = np.delete(data_raw, defect, axis = 0)"
   ]
  },
  {
   "cell_type": "markdown",
   "metadata": {},
   "source": [
    "### 1- Simulated Data (White Noise)\n",
    "\n",
    "<br>"
   ]
  },
  {
   "cell_type": "code",
   "execution_count": null,
   "metadata": {
    "collapsed": false
   },
   "outputs": [],
   "source": [
    "# simulated Data\n",
    "# --------------\n",
    "\n",
    "d1 = np.random.normal(0. , 0.5 , (3000 , 2))\n",
    "d2 = np.random.normal(0. , 0.9 , (500 , 2))\n",
    "d3 = np.random.normal(0. , 0.5 , (3000 , 2))\n",
    "\n",
    "sim_data1 = np.concatenate((d1, d2) , axis = 0)\n",
    "sim_data = np.concatenate((sim_data1 , d3), axis = 0)"
   ]
  },
  {
   "cell_type": "markdown",
   "metadata": {},
   "source": [
    "## General Functions\n",
    "\n",
    "<br>"
   ]
  },
  {
   "cell_type": "markdown",
   "metadata": {},
   "source": [
    "### 1- Power Martingale with defined Epsilon\n",
    "\n",
    "<br>"
   ]
  },
  {
   "cell_type": "code",
   "execution_count": null,
   "metadata": {
    "collapsed": false,
    "scrolled": true
   },
   "outputs": [],
   "source": [
    "# Function to calculate Power Martingale:\n",
    "# ---------------------------------------\n",
    "\n",
    "def power_martingale(data , eps , delay, sim = False):\n",
    "    \n",
    "    # Normalization\n",
    "    data_norm = data / np.std(data, axis = 0)\n",
    "    \n",
    "    # initiate Filtered data\n",
    "    d = np.zeros(data_norm.shape)\n",
    "    \n",
    "    # delay-Filter\n",
    "    for i in range (delay, data_norm.shape[0]):\n",
    "        d[i, :] = data_norm[i,:] - data_norm[ i - delay , : ]\n",
    "        \n",
    "    if(sim):\n",
    "        d = data\n",
    " \n",
    "    # data mean\n",
    "    mean = np.average(d , axis = 0)\n",
    "    \n",
    "    # mean vector norm\n",
    "    mean_norm = np.linalg.norm(mean)\n",
    "\n",
    "    # strangenes reference\n",
    "    ref_alpha = np.linalg.norm(d.std(axis = 0)) + mean_norm\n",
    "\n",
    "    # Length of data\n",
    "    L = d.shape[0]\n",
    "\n",
    "    # alpha\n",
    "    alpha = np.linalg.norm(d , axis = 1) / ref_alpha\n",
    "\n",
    "    # p-value(randomised)\n",
    "    p_value = np.ones(alpha.shape)\n",
    "\n",
    "    # iterrate for p-value calculation\n",
    "    for i in range(1,L):\n",
    "    \n",
    "        # end value\n",
    "        end = alpha[i]\n",
    "    \n",
    "        # alpha subset\n",
    "        alpha_sub = alpha[:i + 1]\n",
    "\n",
    "        # number of elements\n",
    "        n = i + 1   \n",
    "    \n",
    "        # p-values calculation\n",
    "        p_value[i] = ( float(np.sum(alpha_sub > end)) + np.random.uniform() * np.sum(alpha_sub == end ) ) / float(n)\n",
    "    \n",
    "        # to avoid log zero\n",
    "        p_value[p_value==0] = 0.0000000001\n",
    "    \n",
    "    # initiate Power Martingale\n",
    "    power_mart = np.zeros(alpha.shape)\n",
    "\n",
    "    # dummy multiplier\n",
    "    M = 0.\n",
    "    \n",
    "    # initiate difference measure\n",
    "    diff_arr = np.zeros((L,))\n",
    "    \n",
    "    # Initiate difference multiplier\n",
    "    diff = 1.\n",
    "\n",
    "    # iterrate for power martingale calculation\n",
    "    for i in range(L):\n",
    "        \n",
    "        # increment\n",
    "        delta = eps * (p_value[i]) ** (eps - 1.)\n",
    "        \n",
    "        # Calculate martingale difference\n",
    "        # diff_arr[i] = np.log( np.absolute(diff * (delta - 1.)) )\n",
    "        diff_arr[i] = np.absolute(np.log(delta))\n",
    "        \n",
    "        # Update power martingal\n",
    "        M += np.log(delta)  \n",
    "        \n",
    "        # Array\n",
    "        power_mart[i] = M\n",
    "        \n",
    "    return power_mart , diff_arr"
   ]
  },
  {
   "cell_type": "markdown",
   "metadata": {},
   "source": [
    "### 2- Power Martingale with Mixture\n",
    "\n",
    "<br>"
   ]
  },
  {
   "cell_type": "code",
   "execution_count": null,
   "metadata": {
    "collapsed": true
   },
   "outputs": [],
   "source": [
    "# Function to calculate Power Martingale:\n",
    "# ---------------------------------------\n",
    "\n",
    "def power_martingale_mix(data , res , delay, sim = False):\n",
    "    \n",
    "    # Normalization\n",
    "    data_norm = data / np.std(data, axis = 0)\n",
    "    \n",
    "    # initiate Filtered data\n",
    "    d = np.zeros(data_norm.shape)\n",
    "    \n",
    "    # delay-Filter\n",
    "    for i in range (delay, data_norm.shape[0]):\n",
    "        d[i, :] = data_norm[i,:] - data_norm[ i - delay , : ]\n",
    "        \n",
    "    if(sim):\n",
    "        d = data\n",
    "\n",
    "    # epsilon array\n",
    "    eps = np.linspace(0.001, 0.999, res)\n",
    "    \n",
    "    # data mean\n",
    "    mean = np.average(d , axis = 0)\n",
    "    \n",
    "    # mean vector norm\n",
    "    mean_norm = np.linalg.norm(mean)\n",
    "\n",
    "    # strangenes reference\n",
    "    ref_alpha = np.linalg.norm(d.std(axis = 0)) + mean_norm\n",
    "\n",
    "    # Length of data\n",
    "    L = d.shape[0]\n",
    "\n",
    "    # alpha\n",
    "    alpha = np.linalg.norm(d , axis = 1) / ref_alpha\n",
    "\n",
    "    # p-value(randomised)\n",
    "    p_value = np.ones(alpha.shape)\n",
    "\n",
    "    # iterrate for p-value calculation\n",
    "    for i in range(1,L):\n",
    "    \n",
    "        # end value\n",
    "        end = alpha[i]\n",
    "    \n",
    "        # alpha subset\n",
    "        alpha_sub = alpha[:i - 1]\n",
    "\n",
    "        # number of elements\n",
    "        n = i + 1   \n",
    "    \n",
    "        # p-values calculation\n",
    "        p_value[i] = ( np.sum(alpha_sub > end) + np.random.uniform() * np.sum(alpha_sub == end ) ) / n\n",
    "    \n",
    "        # to avoid log zero\n",
    "        p_value[p_value==0] = 0.00000000001\n",
    "    \n",
    "    # initiate Power Martingale\n",
    "    power_mart = np.zeros(alpha.shape)\n",
    "    \n",
    "    # initiate difference\n",
    "    diff_arr = np.zeros(alpha.shape)\n",
    "\n",
    "    # dummy multiplier\n",
    "    M = 0.\n",
    "\n",
    "    # iterrate for power martingale calculation\n",
    "    for i in range(L):\n",
    "    \n",
    "        # Calculate delta Array    \n",
    "        delta = np.log(eps) + (eps - 1.) * np.log(p_value[i])\n",
    "        \n",
    "        # Integrate for mix\n",
    "        delta_mix = trap_mix(delta , eps)\n",
    "        \n",
    "        # update power martingale\n",
    "        M += delta_mix\n",
    "        \n",
    "        # Array\n",
    "        power_mart[i] = M\n",
    "        \n",
    "        # difference\n",
    "        diff_arr[i] = np.absolute(delta_mix)\n",
    "        \n",
    "        \n",
    "    return power_mart , diff_arr"
   ]
  },
  {
   "cell_type": "markdown",
   "metadata": {},
   "source": [
    "### 3- Plugin Martingale\n",
    "\n",
    "<br>"
   ]
  },
  {
   "cell_type": "code",
   "execution_count": null,
   "metadata": {
    "collapsed": true
   },
   "outputs": [],
   "source": [
    "# Function to calculate Plugin Martingale:\n",
    "# ---------------------------------------\n",
    "\n",
    "def plugin_martingale(data , delay , sim = False):\n",
    "    \n",
    "    # Normalization\n",
    "    data_norm = data / np.std(data, axis = 0)\n",
    "    \n",
    "    # initiate Filtered data\n",
    "    d = np.zeros(data_norm.shape)\n",
    "    \n",
    "    # delay-Filter\n",
    "    for i in range (delay, data_norm.shape[0]):\n",
    "        d[i, :] = data_norm[i,:] - data_norm[ i - delay , : ]\n",
    "        \n",
    "    if(sim):\n",
    "        d = data\n",
    "    \n",
    "    # data mean\n",
    "    mean = np.average(d , axis = 0)\n",
    "    \n",
    "    # mean vector norm\n",
    "    mean_norm = np.linalg.norm(mean)\n",
    "\n",
    "    # strangenes reference\n",
    "    ref_alpha = np.linalg.norm(d.std(axis = 0)) + mean_norm\n",
    "\n",
    "    # Length of data\n",
    "    L = d.shape[0]\n",
    "\n",
    "    # alpha\n",
    "    alpha = np.linalg.norm(d , axis = 1) / ref_alpha\n",
    "\n",
    "    # p-value(randomised)\n",
    "    p_value = np.zeros(alpha.shape)\n",
    "\n",
    "    # iterrate for p-value calculation\n",
    "    for i in range(1,L):\n",
    "    \n",
    "        # end value\n",
    "        end = alpha[i]\n",
    "    \n",
    "        # alpha subset\n",
    "        alpha_sub = alpha[:i+1]\n",
    "\n",
    "        # number of elements\n",
    "        n = i + 1   \n",
    "    \n",
    "        # p-values calculation\n",
    "        p_value[i] = ( float(np.sum(alpha_sub > end)) + np.random.uniform() * np.sum(alpha_sub == end ) ) / float(n)\n",
    "    \n",
    "        # to avoid log zero\n",
    "        p_value[p_value==0] = 0.000000001\n",
    "        \n",
    "    # Extended sample\n",
    "    p_value_neg = - p_value\n",
    "    p_value_ref = 2.0 - p_value\n",
    "    \n",
    "    # initiate Power Martingale\n",
    "    power_mart = np.zeros(alpha.shape)\n",
    "\n",
    "    # dummy multiplier\n",
    "    M = 0.\n",
    "    \n",
    "    # difference array\n",
    "    diff_arr = np.zeros(power_mart.shape)\n",
    "\n",
    "    # iterrate for plugin martingale calculation\n",
    "    for i in range(1,L):\n",
    "        \n",
    "        # samples\n",
    "        s1 = p_value_neg[:i]\n",
    "        s2 = p_value[:i]\n",
    "        s3 = p_value_ref[:i]\n",
    "        \n",
    "        # concatenation\n",
    "        s12 = np.concatenate((s1 , s2) , axis = 0)\n",
    "        sample = np.concatenate((s12 , s3) , axis  = 0)\n",
    "        \n",
    "        # Estimate pdf\n",
    "        den = PDF(sample, bw_method='silverman')\n",
    "        \n",
    "        # Integral\n",
    "        A = den.integrate_box_1d(0,1)\n",
    "        \n",
    "        # Evaluate\n",
    "        f =  den.evaluate(p_value[i]) / A\n",
    "        M += np.log(f)\n",
    "        power_mart[i] = M\n",
    "        diff_arr[i] = np.absolute(np.log(f))\n",
    "    \n",
    "    # First Element\n",
    "    power_mart[0] = power_mart[1]\n",
    "    \n",
    "    \n",
    "    return power_mart , diff_arr"
   ]
  },
  {
   "cell_type": "markdown",
   "metadata": {},
   "source": [
    "### 4- Support Functions\n",
    "\n",
    "<br>"
   ]
  },
  {
   "cell_type": "code",
   "execution_count": null,
   "metadata": {
    "collapsed": true
   },
   "outputs": [],
   "source": [
    "# Exponential Smoother:\n",
    "# ---------------------\n",
    "\n",
    "def smooth(y , alpha):\n",
    "    \n",
    "    # initiation of the filtered signal array\n",
    "    x = np.zeros(y.shape)\n",
    "    \n",
    "    # Data size\n",
    "    L = y.shape[0]\n",
    "    \n",
    "    # intiation\n",
    "    x[0] = 0.5 * (1. + alpha) * y[0]\n",
    "    \n",
    "    # Iterrate for new samples\n",
    "    for i in range(1,L):\n",
    "        x[i] = alpha * y[i] + (1. - alpha) * x[i - 1]\n",
    "        \n",
    "    return x"
   ]
  },
  {
   "cell_type": "code",
   "execution_count": null,
   "metadata": {
    "collapsed": false
   },
   "outputs": [],
   "source": [
    "# Function to generate a heatmap array based on Kalman filter\n",
    "# -----------------------------------------------------------\n",
    "\n",
    "def heatmap_fil(x , alpha):\n",
    "    \n",
    "    # signal length\n",
    "    L = x.shape[0]\n",
    "    \n",
    "    # apply smoothing\n",
    "    xk = smooth(x , alpha)\n",
    "    \n",
    "    # reshape arrays\n",
    "    x1 = xk.reshape((1,L)) / np.max(xk)\n",
    "    x2 = x.reshape((1,L)) / np.max(x)\n",
    "    \n",
    "    # Augment arrays\n",
    "    big1 = np.concatenate((x1 , x1) , axis = 0)\n",
    "    big2 = np.concatenate((x2 , x2) , axis = 0)\n",
    "    \n",
    "    # Join arrays\n",
    "    big = np.concatenate((big1 , big2) , axis = 0)\n",
    "    \n",
    "    return big\n",
    "        \n"
   ]
  },
  {
   "cell_type": "code",
   "execution_count": null,
   "metadata": {
    "collapsed": true
   },
   "outputs": [],
   "source": [
    "# Integral function to calculate the mixture Power Martingale:\n",
    "# ------------------------------------------------------------\n",
    "\n",
    "def trap_mix(m,e):\n",
    "    \n",
    "    # initiate integral\n",
    "    integral = 0.\n",
    "    \n",
    "    # iterrate over all values of epsilon\n",
    "    for i in range (len(e) - 1):\n",
    "        \n",
    "        # trapezoid\n",
    "        b = 0.5 * (m[i] + m[i + 1])\n",
    "        h = e[i + 1] - e[i]\n",
    "        \n",
    "        # Integral\n",
    "        integral += b * h\n",
    "        \n",
    "    return integral\n",
    "        "
   ]
  },
  {
   "cell_type": "markdown",
   "metadata": {},
   "source": [
    "## Model Tuning\n",
    "\n",
    "<br>"
   ]
  },
  {
   "cell_type": "markdown",
   "metadata": {},
   "source": [
    "### 1- Constants\n",
    "\n",
    "<br>"
   ]
  },
  {
   "cell_type": "code",
   "execution_count": null,
   "metadata": {
    "collapsed": true
   },
   "outputs": [],
   "source": [
    "# Selected epsilon array\n",
    "e_array = np.linspace(0.1,0.9,50)\n",
    "\n",
    "# selected delay array\n",
    "delay_array = np.linspace(1,500,500)\n",
    "\n",
    "# Dimensions\n",
    "rows = len(delay_array)\n",
    "cols = len(e_array)\n",
    "\n",
    "# Resolution for mixture integral\n",
    "resolution = 100\n",
    "\n",
    "# Smoothing factor for change detection\n",
    "a = 0.008"
   ]
  },
  {
   "cell_type": "markdown",
   "metadata": {},
   "source": [
    "### 2- Power Martingale with variable Epsilon\n",
    "\n",
    "<br>"
   ]
  },
  {
   "cell_type": "code",
   "execution_count": null,
   "metadata": {
    "collapsed": false
   },
   "outputs": [],
   "source": [
    "# Tune for e and delay:\n",
    "#----------------------\n",
    "\n",
    "# Initiation of measure array\n",
    "measure_pwr = np.zeros((rows, cols))\n",
    "\n",
    "for i in range(rows):\n",
    "    \n",
    "    # specify delay\n",
    "    de = int(delay_array[i])\n",
    "    \n",
    "    # Iterrate for each column\n",
    "    for j in range(cols):\n",
    "        \n",
    "        # specify epsilon\n",
    "        e = e_array[j]\n",
    "        display.clear_output(wait=True)\n",
    "        display.display([e , de , i , j])\n",
    "        \n",
    "        # evaluate the difference\n",
    "        pmar, dif = power_martingale(data,e , de)\n",
    "        \n",
    "        # maximum ata Matthew\n",
    "        dif_max = np.max(dif[17000:18000])\n",
    "        \n",
    "        # Put in measure array\n",
    "        measure_pwr[i,j] = dif_max\n",
    "\n",
    "##                   "
   ]
  },
  {
   "cell_type": "code",
   "execution_count": null,
   "metadata": {
    "collapsed": false
   },
   "outputs": [],
   "source": [
    "# Viisualize Tunning results:\n",
    "# ---------------------------\n",
    "\n",
    "fig = plt.figure(figsize = (10,10))\n",
    "\n",
    "clr_map = plt.get_cmap('rainbow')\n",
    "\n",
    "ax = fig.add_subplot(111)\n",
    "ax.pcolor(measure_pwr , cmap = clr_map)\n",
    "\n",
    "plt.show()"
   ]
  },
  {
   "cell_type": "code",
   "execution_count": null,
   "metadata": {
    "collapsed": false,
    "scrolled": false
   },
   "outputs": [],
   "source": [
    "# Best Values\n",
    "# -----------\n",
    "\n",
    "best_row = int(delay_array[np.argmax(measure_pwr) / cols])\n",
    "best_col = np.argmax(measure_pwr) - best_row * cols\n",
    "\n",
    "best_de_pwr = delay_array[best_row]\n",
    "best_e_pwr  = e_array[best_col]"
   ]
  },
  {
   "cell_type": "code",
   "execution_count": null,
   "metadata": {
    "collapsed": false,
    "scrolled": false
   },
   "outputs": [],
   "source": [
    "# Application and Visualization(Power Martingale)\n",
    "# ----------------------------------------------\n",
    "\n",
    "# simulated data \n",
    "p_mar1_pwr , diff1_pwr = power_martingale(sim_data,best_e_pwr , best_de_pwr , sim = True)\n",
    "\n",
    "# Filtered data\n",
    "p_mar2_pwr, diff2_pwr = power_martingale(data,best_e_pwr , best_de_pwr)\n",
    "\n",
    "##"
   ]
  },
  {
   "cell_type": "code",
   "execution_count": null,
   "metadata": {
    "collapsed": false,
    "scrolled": false
   },
   "outputs": [],
   "source": [
    "# Visualization of Power Martingale\n",
    "# ---------------------------------\n",
    "\n",
    "# plot initialization\n",
    "fig = plt.figure(figsize = (15,8))\n",
    "\n",
    "# plot simulated data\n",
    "ax1 = fig.add_subplot(1,2,1)\n",
    "ax1.plot(p_mar1_pwr)\n",
    "ax1.set_title('Simulated Data')\n",
    "\n",
    "# plot raw data\n",
    "ax2 = fig.add_subplot(1,2,2)\n",
    "ax2.plot(p_mar2_pwr)\n",
    "ax2.set_title(' Processed Data ')\n",
    "\n",
    "plt.show()"
   ]
  },
  {
   "cell_type": "code",
   "execution_count": null,
   "metadata": {
    "collapsed": false
   },
   "outputs": [],
   "source": [
    "# Visualize change detection\n",
    "# --------------------------\n",
    "\n",
    "fig = plt.figure(figsize = (20,10))\n",
    "\n",
    "# determine length\n",
    "L = diff1_pwr.shape[0]\n",
    "\n",
    "# Simulated Data\n",
    "ax1 = fig.add_subplot(121)\n",
    "ax1.plot(smooth(diff1_pwr , a))\n",
    "ax1.plot(diff1_pwr , alpha = 0.5)\n",
    "ax1.set_title('Simulated Data')\n",
    "\n",
    "# Processed data data\n",
    "ax2 = fig.add_subplot(122)\n",
    "ax2.plot(smooth(diff2_pwr , a) )\n",
    "ax2.plot(diff2_pwr , alpha = 0.5)\n",
    "ax2.set_title('Filtered Data')\n",
    "\n",
    "plt.show()"
   ]
  },
  {
   "cell_type": "code",
   "execution_count": null,
   "metadata": {
    "collapsed": false
   },
   "outputs": [],
   "source": [
    "# visualize the heatmaps:\n",
    "# -----------------------\n",
    "\n",
    "fig = plt.figure(figsize = (20,10))\n",
    "\n",
    "clr = plt.get_cmap('jet')\n",
    "\n",
    "#\n",
    "ht1 = heatmap_fil(diff1 , a)\n",
    "ax1 = fig.add_subplot(2,1,1)\n",
    "ax1.pcolor(ht1 , cmap = clr)\n",
    "\n",
    "#\n",
    "ht2 = heatmap_fil(diff2 , a)\n",
    "ax2 = fig.add_subplot(2,1,2)\n",
    "ax2.pcolor(ht2 , cmap = clr)\n",
    "\n",
    "plt.show()"
   ]
  },
  {
   "cell_type": "code",
   "execution_count": null,
   "metadata": {
    "collapsed": false
   },
   "outputs": [],
   "source": [
    "# Tune for delay:\n",
    "#----------------\n",
    "\n",
    "# selected delay array\n",
    "delay_array = np.linspace(1,500,500)\n",
    "\n",
    "# Dimensions\n",
    "rows = len(delay_array)\n",
    "\n",
    "# Initiation of measure array\n",
    "measure_m = np.zeros((rows,))\n",
    "\n",
    "for i in range(rows):\n",
    "    \n",
    "    # specify delsy\n",
    "    de = int(delay_array[i])\n",
    "    \n",
    "    # display progress\n",
    "    display.clear_output(wait=True)\n",
    "    display.display([de , i])\n",
    "        \n",
    "    # evaluate the difference\n",
    "    pmar, dif = power_martingale_mix(data, resolution , de)\n",
    "        \n",
    "    # maximum data Matthew\n",
    "    dif_max = np.max(dif[17000:18000])\n",
    "        \n",
    "    # Put in measure array\n",
    "    measure_m[i] = dif_max\n",
    "\n",
    "\n",
    "                   "
   ]
  },
  {
   "cell_type": "code",
   "execution_count": null,
   "metadata": {
    "collapsed": false
   },
   "outputs": [],
   "source": [
    "# Viisualize Tunning results:\n",
    "# ---------------------------\n",
    "\n",
    "fig = plt.figure(figsize = (10,10))\n",
    "\n",
    "ax = fig.add_subplot(111)\n",
    "ax.plot(measure)\n",
    "\n",
    "plt.show()"
   ]
  },
  {
   "cell_type": "code",
   "execution_count": null,
   "metadata": {
    "collapsed": false
   },
   "outputs": [],
   "source": [
    "# Best Values\n",
    "# -----------\n",
    "\n",
    "best_de_m = int(delay_array[np.argmax(measure)])"
   ]
  },
  {
   "cell_type": "code",
   "execution_count": null,
   "metadata": {
    "collapsed": false,
    "scrolled": false
   },
   "outputs": [],
   "source": [
    "# Application and Visualization (Power Martingale)\n",
    "# -----------------------------------------------\n",
    "\n",
    "# simulated data \n",
    "p_mar1 , diff1 = power_martingale_mix(sim_data,resolution , best_de_m , sim = True)\n",
    "\n",
    "# Filtered data\n",
    "p_mar2, diff2 = power_martingale_mix(data,resolution , best_de_m)\n",
    "\n",
    "##"
   ]
  },
  {
   "cell_type": "code",
   "execution_count": null,
   "metadata": {
    "collapsed": false
   },
   "outputs": [],
   "source": [
    "# Visualization of Power Martingale\n",
    "# ---------------------------------\n",
    "\n",
    "# plot initialization\n",
    "fig = plt.figure(figsize = (15,8))\n",
    "\n",
    "# plot simulated data\n",
    "ax1 = fig.add_subplot(1,2,1)\n",
    "ax1.plot(p_mar1)\n",
    "ax1.set_title('Simulated Data')\n",
    "\n",
    "# plot raw data\n",
    "ax2 = fig.add_subplot(1,2,2)\n",
    "ax2.plot(p_mar2)\n",
    "ax2.set_title(' Processed Data ')\n",
    "\n",
    "plt.show()"
   ]
  },
  {
   "cell_type": "code",
   "execution_count": null,
   "metadata": {
    "collapsed": false
   },
   "outputs": [],
   "source": [
    "# Visualize change detection\n",
    "# --------------------------\n",
    "\n",
    "fig = plt.figure(figsize = (20,10))\n",
    "\n",
    "a = 0.008\n",
    "\n",
    "# determine length\n",
    "L = diff1.shape[0]\n",
    "\n",
    "# Simulated Data\n",
    "ax1 = fig.add_subplot(121)\n",
    "ax1.plot(smooth(diff1 , a))\n",
    "ax1.plot(diff1 , alpha = 0.5)\n",
    "ax1.set_title('Simulated Data')\n",
    "\n",
    "# Processed data data\n",
    "ax2 = fig.add_subplot(122)\n",
    "ax2.plot(smooth(diff2 , a) )\n",
    "ax2.plot(diff2 , alpha = 0.5)\n",
    "ax2.set_title('Filtered Data')\n",
    "\n",
    "plt.show()"
   ]
  },
  {
   "cell_type": "code",
   "execution_count": null,
   "metadata": {
    "collapsed": false
   },
   "outputs": [],
   "source": [
    "# visualize the heatmaps:\n",
    "# -----------------------\n",
    "\n",
    "fig = plt.figure(figsize = (20,10))\n",
    "\n",
    "clr = plt.get_cmap('jet')\n",
    "\n",
    "#\n",
    "ht1 = heatmap_fil(diff1 , a)\n",
    "ax1 = fig.add_subplot(2,1,1)\n",
    "ax1.pcolor(ht1 , cmap = clr)\n",
    "\n",
    "#\n",
    "ht2 = heatmap_fil(diff2 , a)\n",
    "ax2 = fig.add_subplot(2,1,2)\n",
    "ax2.pcolor(ht2 , cmap = clr)\n",
    "\n",
    "plt.show()"
   ]
  },
  {
   "cell_type": "code",
   "execution_count": null,
   "metadata": {
    "collapsed": false
   },
   "outputs": [],
   "source": [
    "# Tune for delay:\n",
    "#----------------\n",
    "\n",
    "# integration resolution\n",
    "resolution = 100\n",
    "\n",
    "# selected delay array\n",
    "delay_array = np.linspace(1,500,500)\n",
    "\n",
    "# Dimensions\n",
    "rows = len(delay_array)\n",
    "\n",
    "# Initiation of measure array\n",
    "measure_m = np.zeros((rows,))\n",
    "\n",
    "for i in range(rows):\n",
    "    \n",
    "    # specify delsy\n",
    "    de = int(delay_array[i])\n",
    "    \n",
    "    # display progress\n",
    "    display.clear_output(wait=True)\n",
    "    display.display('current step :  ' + str(i + 1) + ' out of ' + str(rows))\n",
    "        \n",
    "    # evaluate the difference\n",
    "    pmar, dif = plugin_martingale(data, de)\n",
    "        \n",
    "    # maximum data Matthew\n",
    "    dif_max = np.max(dif[17000:18000])\n",
    "        \n",
    "    # Put in measure array\n",
    "    measure_m[i] = dif_max\n",
    "\n",
    "\n",
    "                   "
   ]
  },
  {
   "cell_type": "markdown",
   "metadata": {},
   "source": [
    "---"
   ]
  }
 ],
 "metadata": {
  "anaconda-cloud": {},
  "kernelspec": {
   "display_name": "Python [Root]",
   "language": "python",
   "name": "Python [Root]"
  },
  "language_info": {
   "codemirror_mode": {
    "name": "ipython",
    "version": 2
   },
   "file_extension": ".py",
   "mimetype": "text/x-python",
   "name": "python",
   "nbconvert_exporter": "python",
   "pygments_lexer": "ipython2",
   "version": "2.7.12"
  }
 },
 "nbformat": 4,
 "nbformat_minor": 0
}
