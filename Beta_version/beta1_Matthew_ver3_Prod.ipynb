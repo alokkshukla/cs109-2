{
 "cells": [
  {
   "cell_type": "markdown",
   "metadata": {},
   "source": [
    "# Anomaly Detection - Zelong\n",
    "**Harvard University**<br>\n",
    "**Fall 2016**<br>\n",
    "**Instructors: W. Pan, P. Protopapas, K. Rader**<br>\n",
    "\n",
    "<br>\n",
    "\n",
    "**Dennis Milechin, Ivan Sunyagin, Hany Bassily**\n",
    "\n",
    "<br>\n",
    "## Beta Version for Hurricane Matthew\n",
    "\n",
    "\n",
    "<br>"
   ]
  },
  {
   "cell_type": "markdown",
   "metadata": {},
   "source": [
    "Import libraries"
   ]
  },
  {
   "cell_type": "code",
   "execution_count": null,
   "metadata": {
    "collapsed": false,
    "scrolled": true
   },
   "outputs": [],
   "source": [
    "import numpy as np\n",
    "import pandas as pd\n",
    "import scipy as sp\n",
    "import time\n",
    "from scipy.integrate import simps\n",
    "\n",
    "#import pydotplus\n",
    "from IPython import display\n",
    "from IPython.display import Image\n",
    "#import seaborn as sns\n",
    "#sns.set_style(\"whitegrid\")\n",
    "#sns.set_context(\"paper\")\n",
    "#sns.set_palette(\"RdBu\", n_colors=32)\n",
    "#from inspect import getmembers\n",
    "\n",
    "from mpl_toolkits.mplot3d import Axes3D\n",
    "import matplotlib.cm as cmx\n",
    "import matplotlib.colors as colors\n",
    "\n",
    "from scipy import stats\n",
    "from scipy.stats import gaussian_kde as PDF\n",
    "\n",
    "import collections\n",
    "from matplotlib import rcParams\n",
    "import matplotlib\n",
    "import matplotlib.pyplot as plt\n",
    "%matplotlib inline"
   ]
  },
  {
   "cell_type": "markdown",
   "metadata": {},
   "source": [
    "**---**"
   ]
  },
  {
   "cell_type": "markdown",
   "metadata": {},
   "source": [
    "## Open a datasets\n",
    "\n",
    "<br>"
   ]
  },
  {
   "cell_type": "code",
   "execution_count": null,
   "metadata": {
    "collapsed": false
   },
   "outputs": [],
   "source": [
    "# Open data sets:\n",
    "# --------------\n",
    "\n",
    "# Data dictionary\n",
    "data_dic = {}\n",
    "\n",
    "# specify date columns\n",
    "date_range = [[0,1,2,3,4]]\n",
    "\n",
    "# Open the data files\n",
    "for i in range(5):\n",
    "    file_name = 'datasets/data_' + str(i+1) + '.txt'\n",
    "    inter = pd.read_csv(file_name , delim_whitespace = True , skiprows = [1],\n",
    "                                              parse_dates = date_range , infer_datetime_format = True)\n",
    "    data_dic['df_' + str(i + 1)] = inter.iloc[:,1:]\n",
    "\n",
    "# Sanity check    \n",
    "data_dic['df_1'].head(10)"
   ]
  },
  {
   "cell_type": "code",
   "execution_count": null,
   "metadata": {
    "collapsed": false
   },
   "outputs": [],
   "source": [
    "# Concatenate all files:\n",
    "# ---------------------\n",
    "\n",
    "# initiation\n",
    "df_global_raw = data_dic['df_1']\n",
    "\n",
    "# concatente\n",
    "\n",
    "title = ['WSPD' , 'GST' , 'PRES' , 'ATMP']\n",
    "# title = ['WDIR' , 'WSPD' , 'GST' , 'PRES' , 'ATMP' , 'DEWP']\n",
    "\n",
    "for i in range(2,6):\n",
    "    df_global_raw = pd.concat([df_global_raw , data_dic['df_' + str(i)]] , axis = 0)\n",
    "    \n",
    "df_global = df_global_raw[title]\n",
    "\n",
    "# data array\n",
    "data_raw = df_global.values"
   ]
  },
  {
   "cell_type": "code",
   "execution_count": null,
   "metadata": {
    "collapsed": false
   },
   "outputs": [],
   "source": [
    "# Preprocessing\n",
    "# -------------\n",
    "\n",
    "# determine defected rows\n",
    "defect = []\n",
    "\n",
    "# itterrate\n",
    "for i in range (data_raw.shape[0]):\n",
    "    if data_raw[i,-1] > 200.:\n",
    "        defect.append(i)\n",
    "\n",
    "# remove rows\n",
    "data_clean = np.delete(data_raw, defect, axis = 0)"
   ]
  },
  {
   "cell_type": "markdown",
   "metadata": {},
   "source": [
    "## General Functions\n",
    "\n",
    "<br>"
   ]
  },
  {
   "cell_type": "markdown",
   "metadata": {},
   "source": [
    "### 1- Power Martingale with defined Epsilon\n",
    "\n",
    "<br>"
   ]
  },
  {
   "cell_type": "code",
   "execution_count": null,
   "metadata": {
    "collapsed": false,
    "scrolled": true
   },
   "outputs": [],
   "source": [
    "# Function to calculate Power Martingale - Single:\n",
    "# ----------------------------------------------\n",
    "\n",
    "def power_martingale(data , eps , delay, sim = False):\n",
    "    \n",
    "    # Normalization\n",
    "    data_norm = data / np.std(data, axis = 0)\n",
    "    \n",
    "    # initiate Filtered data\n",
    "    d = np.zeros(data_norm.shape)\n",
    "    \n",
    "    # delay-Filter\n",
    "    for i in range (delay, data_norm.shape[0]):\n",
    "        d[i, :] = data_norm[i,:] - data_norm[ i - delay , : ]\n",
    "        \n",
    "    if(sim):\n",
    "        d = data\n",
    " \n",
    "    # data mean\n",
    "    mean = np.average(d , axis = 0)\n",
    "    \n",
    "    # mean vector norm\n",
    "    mean_norm = np.linalg.norm(mean)\n",
    "\n",
    "    # strangenes reference\n",
    "    ref_alpha = np.linalg.norm(d.std(axis = 0)) + mean_norm\n",
    "\n",
    "    # Length of data\n",
    "    L = d.shape[0]\n",
    "\n",
    "    # alpha\n",
    "    alpha = np.linalg.norm(d , axis = 1) / ref_alpha\n",
    "\n",
    "    # p-value(randomised)\n",
    "    p_value = np.ones(alpha.shape)\n",
    "\n",
    "    # iterrate for p-value calculation\n",
    "    for i in range(1,L):\n",
    "    \n",
    "        # end value\n",
    "        end = alpha[i]\n",
    "    \n",
    "        # alpha subset\n",
    "        alpha_sub = alpha[:i + 1]\n",
    "\n",
    "        # number of elements\n",
    "        n = i + 1   \n",
    "    \n",
    "        # p-values calculation\n",
    "        np.random.seed(200)\n",
    "        p_value[i] = ( float(np.sum(alpha_sub > end)) + np.random.uniform() * np.sum(alpha_sub == end ) ) / float(n)\n",
    "        # p_value[i] = float(np.sum(alpha_sub >= end))  / float(n)\n",
    "    \n",
    "        # to avoid log zero\n",
    "        p_value[p_value==0] = 0.0000000001\n",
    "    \n",
    "    # initiate Power Martingale\n",
    "    power_mart = np.zeros(alpha.shape)\n",
    "\n",
    "    # dummy multiplier\n",
    "    M = 0.\n",
    "    \n",
    "    # initiate difference measure\n",
    "    diff_arr = np.zeros((L,))\n",
    "    \n",
    "    # Initiate difference multiplier\n",
    "    diff = 1.\n",
    "\n",
    "    # iterrate for power martingale calculation\n",
    "    for i in range(L):\n",
    "        \n",
    "        # increment\n",
    "        delta = eps * (p_value[i]) ** (eps - 1.)\n",
    "        \n",
    "        # Calculate martingale difference\n",
    "        # diff_arr[i] = np.log( np.absolute(diff * (delta - 1.)) )\n",
    "        diff_arr[i] = np.absolute(np.log(delta))\n",
    "        \n",
    "        # Update power martingal\n",
    "        M += np.log(delta)  \n",
    "        \n",
    "        # Array\n",
    "        power_mart[i] = M\n",
    "        \n",
    "    return power_mart , diff_arr"
   ]
  },
  {
   "cell_type": "markdown",
   "metadata": {},
   "source": [
    "### 2- Power Martingale with Mixture\n",
    "\n",
    "<br>"
   ]
  },
  {
   "cell_type": "code",
   "execution_count": null,
   "metadata": {
    "collapsed": true
   },
   "outputs": [],
   "source": [
    "# Function to calculate Power Martingale:\n",
    "# ---------------------------------------\n",
    "\n",
    "def power_martingale_mix(data , res , delay, sim = False):\n",
    "    \n",
    "    # Normalization\n",
    "    data_norm = data / np.std(data, axis = 0)\n",
    "    \n",
    "    # initiate Filtered data\n",
    "    d = np.zeros(data_norm.shape)\n",
    "    \n",
    "    # delay-Filter\n",
    "    for i in range (delay, data_norm.shape[0]):\n",
    "        d[i, :] = data_norm[i,:] - data_norm[ i - delay , : ]\n",
    "        \n",
    "    if(sim):\n",
    "        d = data\n",
    "\n",
    "    # epsilon array\n",
    "    eps = np.linspace(0.001, 0.999, res)\n",
    "    \n",
    "    # data mean\n",
    "    mean = np.average(d , axis = 0)\n",
    "    \n",
    "    # mean vector norm\n",
    "    mean_norm = np.linalg.norm(mean)\n",
    "\n",
    "    # strangenes reference\n",
    "    ref_alpha = np.linalg.norm(d.std(axis = 0)) + mean_norm\n",
    "\n",
    "    # Length of data\n",
    "    L = d.shape[0]\n",
    "\n",
    "    # alpha\n",
    "    alpha = np.linalg.norm(d , axis = 1) / ref_alpha\n",
    "\n",
    "    # p-value(randomised)\n",
    "    p_value = np.ones(alpha.shape)\n",
    "\n",
    "    # iterrate for p-value calculation\n",
    "    for i in range(1,L):\n",
    "    \n",
    "        # end value\n",
    "        end = alpha[i]\n",
    "    \n",
    "        # alpha subset\n",
    "        alpha_sub = alpha[:i - 1]\n",
    "\n",
    "        # number of elements\n",
    "        n = i + 1   \n",
    "    \n",
    "        # p-values calculation\n",
    "        np.random.seed(200)\n",
    "        p_value[i] = ( float(np.sum(alpha_sub > end)) + np.random.uniform() * np.sum(alpha_sub == end ) ) / float(n)\n",
    "        # p_value[i] = float(np.sum(alpha_sub >= end))  / float(n)\n",
    "    \n",
    "        # to avoid log zero\n",
    "        p_value[p_value==0] = 0.00000000001\n",
    "    \n",
    "    # initiate Power Martingale\n",
    "    power_mart = np.zeros(alpha.shape)\n",
    "    \n",
    "    # initiate difference\n",
    "    diff_arr = np.zeros(alpha.shape)\n",
    "\n",
    "    # dummy multiplier\n",
    "    M = 0.\n",
    "\n",
    "    # iterrate for power martingale calculation\n",
    "    for i in range(L):\n",
    "    \n",
    "        # Calculate delta Array    \n",
    "        delta = np.log(eps) + (eps - 1.) * np.log(p_value[i])\n",
    "        \n",
    "        # Integrate for mix\n",
    "        delta_mix = simps(delta , eps)\n",
    "        \n",
    "        # update power martingale\n",
    "        M += delta_mix\n",
    "        \n",
    "        # Array\n",
    "        power_mart[i] = M\n",
    "        \n",
    "        # difference\n",
    "        diff_arr[i] = np.absolute(delta_mix)\n",
    "        \n",
    "        \n",
    "    return power_mart , diff_arr"
   ]
  },
  {
   "cell_type": "markdown",
   "metadata": {},
   "source": [
    "### 3- Support Functions\n",
    "\n",
    "<br>"
   ]
  },
  {
   "cell_type": "code",
   "execution_count": null,
   "metadata": {
    "collapsed": true
   },
   "outputs": [],
   "source": [
    "# Exponential Smoother:\n",
    "# ---------------------\n",
    "\n",
    "def smooth(y , alpha):\n",
    "    \n",
    "    # initiation of the filtered signal array\n",
    "    x = np.zeros(y.shape)\n",
    "    \n",
    "    # Data size\n",
    "    L = y.shape[0]\n",
    "    \n",
    "    # intiation\n",
    "    x[0] = 0.5 * (1. + alpha) * y[0]\n",
    "    \n",
    "    # Iterrate for new samples\n",
    "    for i in range(1,L):\n",
    "        x[i] = alpha * y[i] + (1. - alpha) * x[i - 1]\n",
    "        \n",
    "    return x"
   ]
  },
  {
   "cell_type": "code",
   "execution_count": null,
   "metadata": {
    "collapsed": false
   },
   "outputs": [],
   "source": [
    "# Function to generate a heatmap array for raw and smoothed signal\n",
    "# ----------------------------------------------------------------\n",
    "\n",
    "def heatmap_fil(x , alpha):\n",
    "    \n",
    "    # signal length\n",
    "    L = x.shape[0]\n",
    "    \n",
    "    # apply smoothing\n",
    "    xk = smooth(x , alpha)\n",
    "    \n",
    "    # reshape arrays\n",
    "    x1 = xk.reshape((1,L)) / np.max(xk)\n",
    "    x2 = x.reshape((1,L)) / np.max(x)\n",
    "    \n",
    "    # Augment arrays\n",
    "    big1 = np.concatenate((x1 , x1) , axis = 0)\n",
    "    big2 = np.concatenate((x2 , x2) , axis = 0)\n",
    "    \n",
    "    # Join arrays\n",
    "    big = np.concatenate((big1 , big2) , axis = 0)\n",
    "    \n",
    "    return big\n",
    "        \n"
   ]
  },
  {
   "cell_type": "markdown",
   "metadata": {},
   "source": [
    "## Model Tuning\n",
    "\n",
    "<br>"
   ]
  },
  {
   "cell_type": "markdown",
   "metadata": {},
   "source": [
    "### 1- General Constants\n",
    "\n",
    "<br>"
   ]
  },
  {
   "cell_type": "code",
   "execution_count": null,
   "metadata": {
    "collapsed": false
   },
   "outputs": [],
   "source": [
    "# Selected epsilon array\n",
    "e_array = np.linspace(0.01,0.99,100)\n",
    "\n",
    "# selected delay array\n",
    "delay_array = np.array(range(1,501))\n",
    "\n",
    "# Dimensions\n",
    "rows = len(delay_array)\n",
    "cols = len(e_array)\n",
    "\n",
    "# Resolution for mixture integral\n",
    "resolution = 200\n",
    "\n",
    "# Smoothing factor for change detection\n",
    "a = 0.008\n",
    "\n",
    "# Data size\n",
    "L = data_clean.shape[0]\n",
    "\n",
    "# Epsilon Value\n",
    "eps = 0.307\n",
    "\n",
    "# Delay Value\n",
    "delay = 189\n",
    "\n",
    "# Color map \n",
    "clr = plt.get_cmap('jet')"
   ]
  },
  {
   "cell_type": "markdown",
   "metadata": {},
   "source": [
    "### 2- Power Martingale with variable Epsilon\n",
    "\n",
    "<br>"
   ]
  },
  {
   "cell_type": "code",
   "execution_count": null,
   "metadata": {
    "collapsed": false,
    "scrolled": false
   },
   "outputs": [],
   "source": [
    "# Application and Visualization\n",
    "# -----------------------------\n",
    "\n",
    "# Filtered data\n",
    "p_mar2_pwr, diff2_pwr = power_martingale(data_clean,eps , delay)\n",
    "\n",
    "##"
   ]
  },
  {
   "cell_type": "code",
   "execution_count": null,
   "metadata": {
    "collapsed": false,
    "scrolled": false
   },
   "outputs": [],
   "source": [
    "# Visualization of Power Martingale\n",
    "# ---------------------------------\n",
    "\n",
    "# plot initialization\n",
    "fig = plt.figure(figsize = (15,8))\n",
    "\n",
    "# plot simulated data\n",
    "ax1 = fig.add_subplot(1,2,1)\n",
    "ax1.plot(p_mar1_pwr)\n",
    "ax1.set_title('Simulated Data')\n",
    "\n",
    "# plot raw data\n",
    "ax2 = fig.add_subplot(1,2,2)\n",
    "ax2.plot(p_mar2_pwr)\n",
    "ax2.set_title(' Processed Data ')\n",
    "\n",
    "plt.show()"
   ]
  },
  {
   "cell_type": "code",
   "execution_count": null,
   "metadata": {
    "collapsed": false
   },
   "outputs": [],
   "source": [
    "# Visualize change detection\n",
    "# --------------------------\n",
    "\n",
    "fig = plt.figure(figsize = (20,10))\n",
    "\n",
    "# Simulated Data\n",
    "ax1 = fig.add_subplot(121)\n",
    "ax1.plot(smooth(diff1_pwr , a))\n",
    "ax1.plot(diff1_pwr , alpha = 0.5)\n",
    "ax1.set_title('Simulated Data')\n",
    "\n",
    "# Processed data data\n",
    "ax2 = fig.add_subplot(122)\n",
    "ax2.plot(smooth(diff2_pwr , a) )\n",
    "ax2.plot(diff2_pwr , alpha = 0.5)\n",
    "ax2.set_title('Filtered Data')\n",
    "\n",
    "plt.show()"
   ]
  },
  {
   "cell_type": "code",
   "execution_count": null,
   "metadata": {
    "collapsed": false
   },
   "outputs": [],
   "source": [
    "# visualize the heatmaps for the change detection (CD):\n",
    "# ----------------------------------------------------\n",
    "\n",
    "fig = plt.figure(figsize = (20,10))\n",
    "\n",
    "#\n",
    "ht1_pwr = heatmap_fil(diff1_pwr , a)\n",
    "ax1 = fig.add_subplot(2,1,1)\n",
    "ax1.text(6550,1,'Smoothed CD')\n",
    "ax1.text(6550,3,'Raw CD')\n",
    "ax1.set_title('Simulated')\n",
    "ax1.pcolor(ht1_pwr , cmap = clr)\n",
    "ax1.axes.get_yaxis().set_visible(False)\n",
    "\n",
    "#\n",
    "ht2_pwr = heatmap_fil(diff2_pwr , a)\n",
    "ax2 = fig.add_subplot(2,1,2)\n",
    "ax2.text(22500,1,'Smoothed CD')\n",
    "ax2.text(22500,3,'Raw CD')\n",
    "ax2.set_title('Actual')\n",
    "ax2.pcolor(ht2_pwr , cmap = clr)\n",
    "ax2.axes.get_yaxis().set_visible(False)\n",
    "\n",
    "plt.show()"
   ]
  },
  {
   "cell_type": "markdown",
   "metadata": {},
   "source": [
    "### 2- Power Martingale with Mixture\n",
    "\n",
    "<br>"
   ]
  },
  {
   "cell_type": "code",
   "execution_count": null,
   "metadata": {
    "collapsed": false
   },
   "outputs": [],
   "source": [
    "# Tune for delay:\n",
    "#----------------\n",
    "\n",
    "# Initiation of measure array\n",
    "measure_mix = np.zeros((rows,))\n",
    "\n",
    "# timer initiation\n",
    "timer_2 = 0.\n",
    "\n",
    "for i in range(rows):\n",
    "    \n",
    "    # start timer\n",
    "    start_2 = time.time()\n",
    "    \n",
    "    # specify delsy\n",
    "    de = int(delay_array[i])\n",
    "    \n",
    "    # display progress\n",
    "    display.clear_output(wait=True)\n",
    "    display.display('Processing delay of ' + str(de) + ' at step ' + str(i + 1), \n",
    "                    'Process time : ' + str(timer_2) + ' sec')\n",
    "        \n",
    "    # evaluate the difference\n",
    "    pmar, dif = power_martingale_mix(data_clean, resolution , de)\n",
    "    dif_s = smooth(dif , a)\n",
    "    \n",
    "        \n",
    "    # maximum data Matthew\n",
    "    dif_max_m = np.max(dif_s[17000:18000])\n",
    "    \n",
    "        \n",
    "    # Put in measure array\n",
    "    measure_mix[i] = (dif_max_m - np.average(dif_s)) / dif_s.std(axis=0)\n",
    "    \n",
    "    # stop timer\n",
    "    timer_2 = time.time() - start_2\n",
    "\n",
    "\n",
    "                   "
   ]
  },
  {
   "cell_type": "code",
   "execution_count": null,
   "metadata": {
    "collapsed": false
   },
   "outputs": [],
   "source": [
    "# Viisualize Tunning results:\n",
    "# ---------------------------\n",
    "\n",
    "fig = plt.figure(figsize = (10,10))\n",
    "\n",
    "ax = fig.add_subplot(111)\n",
    "ax.plot(measure_mix)\n",
    "\n",
    "plt.show()"
   ]
  },
  {
   "cell_type": "code",
   "execution_count": null,
   "metadata": {
    "collapsed": false
   },
   "outputs": [],
   "source": [
    "# Best Values\n",
    "# -----------\n",
    "\n",
    "best_de_mix = int(delay_array[np.argmax(measure_mix)])\n",
    "\n",
    "print '\\nBest Delay is : ' , best_de_mix"
   ]
  },
  {
   "cell_type": "code",
   "execution_count": null,
   "metadata": {
    "collapsed": false,
    "scrolled": false
   },
   "outputs": [],
   "source": [
    "# Application and Visualization (Power Martingale with Mixture)\n",
    "# -------------------------------------------------------------\n",
    "\n",
    "# simulated data \n",
    "p_mar1_mix , diff1_mix = power_martingale_mix(sim_data,resolution , best_de_mix , sim = True)\n",
    "\n",
    "# Filtered data\n",
    "p_mar2_mix, diff2_mix = power_martingale_mix(data_clean,resolution , best_de_mix)\n",
    "\n",
    "##"
   ]
  },
  {
   "cell_type": "code",
   "execution_count": null,
   "metadata": {
    "collapsed": false
   },
   "outputs": [],
   "source": [
    "# Visualization of Power Martingale\n",
    "# ---------------------------------\n",
    "\n",
    "# plot initialization\n",
    "fig = plt.figure(figsize = (15,8))\n",
    "\n",
    "# plot simulated data\n",
    "ax1 = fig.add_subplot(1,2,1)\n",
    "ax1.plot(p_mar1_mix)\n",
    "ax1.set_title('Simulated Data')\n",
    "\n",
    "# plot raw data\n",
    "ax2 = fig.add_subplot(1,2,2)\n",
    "ax2.plot(p_mar2_mix)\n",
    "ax2.set_title(' Processed Data ')\n",
    "\n",
    "plt.show()"
   ]
  },
  {
   "cell_type": "code",
   "execution_count": null,
   "metadata": {
    "collapsed": false
   },
   "outputs": [],
   "source": [
    "# Visualize change detection\n",
    "# --------------------------\n",
    "\n",
    "fig = plt.figure(figsize = (20,10))\n",
    "\n",
    "# Simulated Data\n",
    "ax1 = fig.add_subplot(121)\n",
    "ax1.plot(smooth(diff1_mix , a))\n",
    "ax1.plot(diff1_mix , alpha = 0.5)\n",
    "ax1.set_title('Simulated Data')\n",
    "\n",
    "# Processed data data\n",
    "ax2 = fig.add_subplot(122)\n",
    "ax2.plot(smooth(diff2_mix , a) )\n",
    "ax2.plot(diff2_mix , alpha = 0.5)\n",
    "ax2.set_title('Filtered Data')\n",
    "\n",
    "plt.show()"
   ]
  },
  {
   "cell_type": "code",
   "execution_count": null,
   "metadata": {
    "collapsed": false
   },
   "outputs": [],
   "source": [
    "# visualize the heatmaps for the change detection (CD):\n",
    "# -----------------------------------------------------\n",
    "\n",
    "fig = plt.figure(figsize = (20,10))\n",
    "\n",
    "#\n",
    "ht1_mix = heatmap_fil(diff1_mix , a)\n",
    "ax1 = fig.add_subplot(2,1,1)\n",
    "ax1.pcolor(ht1_mix , cmap = clr)\n",
    "ax1.text(6550,1,'Smoothed CD')\n",
    "ax1.text(6550,3,'Raw CD')\n",
    "ax1.set_title('Simulated')\n",
    "ax1.axes.get_yaxis().set_visible(False)\n",
    "\n",
    "#\n",
    "ht2_mix = heatmap_fil(diff2_mix , a)\n",
    "ax2 = fig.add_subplot(2,1,2)\n",
    "ax2.pcolor(ht2_mix , cmap = clr)\n",
    "ax2.text(22500,1,'Smoothed CD')\n",
    "ax2.text(22500,3,'Raw CD')\n",
    "ax2.set_title('Actual')\n",
    "ax2.axes.get_yaxis().set_visible(False)\n",
    "\n",
    "plt.show()"
   ]
  },
  {
   "cell_type": "markdown",
   "metadata": {},
   "source": [
    "## Summary of two methods\n",
    "\n",
    "<br>"
   ]
  },
  {
   "cell_type": "markdown",
   "metadata": {},
   "source": [
    "### 1- Processed Data Plot\n",
    "\n",
    "<br>\n",
    "**Data after normalization and applying the best delay difference**\n",
    "\n",
    "<br>"
   ]
  },
  {
   "cell_type": "code",
   "execution_count": null,
   "metadata": {
    "collapsed": true
   },
   "outputs": [],
   "source": [
    "# Preprocess the data with normalization and applying best delay difference:\n",
    "# --------------------------------------------------------------------------\n",
    "\n",
    "# Select best delay to apply\n",
    "best_de = best_de_pwr\n",
    "\n",
    "# Normalization\n",
    "data_preproc = data_clean / np.std(data_clean, axis = 0)\n",
    "    \n",
    "# initiate Filtered data\n",
    "data_preproc_filtered = np.zeros(data_preproc.shape)\n",
    "    \n",
    "# delay-Filter\n",
    "for i in range (best_de, data_preproc.shape[0]):\n",
    "    data_preproc_filtered[i, :] = data_preproc[i,:] - data_preproc[ i - best_de , : ]"
   ]
  },
  {
   "cell_type": "code",
   "execution_count": null,
   "metadata": {
    "collapsed": false
   },
   "outputs": [],
   "source": [
    "# Visualize the preprocessed data:\n",
    "# --------------------------------\n",
    "\n",
    "fig = plt.figure(figsize = (20, 30))\n",
    "n = data_preproc_filtered.shape[1]\n",
    "\n",
    "# iterrate for data columns\n",
    "for i in range (n):\n",
    "    ax = fig.add_subplot(n,1,i + 1)\n",
    "    ax.plot(data_preproc_filtered[:,i])\n",
    "    ax.set_title(title[i])\n",
    "    \n",
    "plt.show()"
   ]
  },
  {
   "cell_type": "markdown",
   "metadata": {},
   "source": [
    "### 2- Power and Mix Martingale Plots\n",
    "\n",
    "<br>"
   ]
  },
  {
   "cell_type": "code",
   "execution_count": null,
   "metadata": {
    "collapsed": false
   },
   "outputs": [],
   "source": [
    "# Visualization of Power Martingale\n",
    "# ---------------------------------\n",
    "\n",
    "# plot initialization\n",
    "fig = plt.figure(figsize = (15,8))\n",
    "\n",
    "# plot simulated data\n",
    "ax1 = fig.add_subplot(1,2,1)\n",
    "ax1.plot(p_mar1_pwr , label = 'Power Martingale')\n",
    "ax1.plot(p_mar1_mix , label = 'Mix Martingale')\n",
    "ax1.set_title('Simulated Data')\n",
    "ax1.legend()\n",
    "\n",
    "# plot raw data\n",
    "ax2 = fig.add_subplot(1,2,2)\n",
    "ax2.plot(p_mar2_pwr , label = 'Power Martingale')\n",
    "ax2.plot(p_mar2_mix , label = 'Mix Martingale')\n",
    "ax2.set_title(' Processed Data ')\n",
    "ax2.legend()\n",
    "\n",
    "plt.show()"
   ]
  },
  {
   "cell_type": "markdown",
   "metadata": {},
   "source": [
    "### 3- Change Detection Plots\n",
    "\n",
    "<br>"
   ]
  },
  {
   "cell_type": "code",
   "execution_count": null,
   "metadata": {
    "collapsed": false
   },
   "outputs": [],
   "source": [
    "# Visualize change detection\n",
    "# --------------------------\n",
    "\n",
    "fig = plt.figure(figsize = (20,10))\n",
    "\n",
    "# Simulated Data\n",
    "ax1 = fig.add_subplot(121)\n",
    "ax1.plot(smooth(diff1_pwr , a) , label = 'Power Martingale', alpha = 0.5)\n",
    "ax1.plot(smooth(diff1_mix , a) , label = 'Mix Martingale' , alpha = 0.9)\n",
    "ax1.set_title('Simulated Data')\n",
    "ax1.legend()\n",
    "\n",
    "# Processed data data\n",
    "ax2 = fig.add_subplot(122)\n",
    "ax2.plot(smooth(diff2_pwr , a) , label = 'Power Martingale', alpha = 0.5)\n",
    "ax2.plot(smooth(diff2_mix , a) , label = 'Mix Martingale' , alpha = 0.9)\n",
    "ax2.set_title('Filtered Data')\n",
    "ax2.legend()\n",
    "\n",
    "plt.show()"
   ]
  },
  {
   "cell_type": "markdown",
   "metadata": {},
   "source": [
    "### 4- Heatmap Plots\n",
    "\n",
    "<br>"
   ]
  },
  {
   "cell_type": "code",
   "execution_count": null,
   "metadata": {
    "collapsed": false
   },
   "outputs": [],
   "source": [
    "# Comparitive heatmap array\n",
    "# -------------------------\n",
    "    \n",
    "# apply smoothing\n",
    "xk1 = smooth(diff2_pwr , a)\n",
    "xk2 = smooth(diff2_mix , a)\n",
    "    \n",
    "# reshape arrays\n",
    "x1 = xk1.reshape((1,L)) #/ np.max(xk1)\n",
    "x2 = xk2.reshape((1,L)) #/ np.max(xk2)\n",
    "    \n",
    "# Augment arrays\n",
    "ext1 = np.concatenate((x1 , x1) , axis = 0)\n",
    "ext2 = np.concatenate((x2 , x2) , axis = 0)\n",
    "    \n",
    "# Join arrays\n",
    "ext = np.concatenate((ext1 , ext2) , axis = 0)\n",
    "\n",
    "        "
   ]
  },
  {
   "cell_type": "code",
   "execution_count": null,
   "metadata": {
    "collapsed": false
   },
   "outputs": [],
   "source": [
    "# visualize the heatmaps:\n",
    "# -----------------------\n",
    "\n",
    "fig = plt.figure(figsize = (20,4))\n",
    "\n",
    "#\n",
    "ax = fig.add_subplot(1,1,1)\n",
    "ax.pcolor(ext , cmap = clr)\n",
    "ax.text(22500,1,'Power Martingale')\n",
    "ax.text(22500,3,'Mix Martingale')\n",
    "ax.axes.get_yaxis().set_visible(False)\n",
    "\n",
    "plt.show()"
   ]
  },
  {
   "cell_type": "markdown",
   "metadata": {},
   "source": [
    "---"
   ]
  }
 ],
 "metadata": {
  "anaconda-cloud": {},
  "kernelspec": {
   "display_name": "Python [Root]",
   "language": "python",
   "name": "Python [Root]"
  },
  "language_info": {
   "codemirror_mode": {
    "name": "ipython",
    "version": 2
   },
   "file_extension": ".py",
   "mimetype": "text/x-python",
   "name": "python",
   "nbconvert_exporter": "python",
   "pygments_lexer": "ipython2",
   "version": "2.7.12"
  }
 },
 "nbformat": 4,
 "nbformat_minor": 0
}
